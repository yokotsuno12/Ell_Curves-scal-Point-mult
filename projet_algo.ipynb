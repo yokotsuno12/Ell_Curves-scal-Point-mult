{
 "cells": [
  {
   "cell_type": "code",
   "execution_count": 10,
   "metadata": {
    "collapsed": false
   },
   "outputs": [
   ],
   "source": [
    "import random\n",
    "import numpy as np"
   ]
  },
  {
   "cell_type": "code",
   "execution_count": 2,
   "metadata": {
    "collapsed": false,
    "scrolled": true
   },
   "outputs": [
   ],
   "source": [
    "E = EllipticCurve(GF(144169), [1,1])\n",
    "listepoints = E.points()"
   ]
  },
  {
   "cell_type": "code",
   "execution_count": 11,
   "metadata": {
    "collapsed": false
   },
   "outputs": [
   ],
   "source": [
    "def decomp_base2(x):\n",
    "    y=bin(x)\n",
    "    return y[2:]\n",
    "\n",
    "def harmonisation(a, w):\n",
    "    strNum = str(a)\n",
    "    a = strNum.zfill(len(strNum)+w-(len(strNum)%w))\n",
    "    return a\n",
    "\n",
    "def extract(i,a,w):\n",
    "    return a[w*i:w*(i+1)]"
   ]
  },
  {
   "cell_type": "code",
   "execution_count": 12,
   "metadata": {
    "collapsed": false
   },
   "outputs": [
   ],
   "source": [
    "def algorithme_naif(P,k):\n",
    "    if k == 0:\n",
    "        return E(0)\n",
    "    elif k == 1:\n",
    "        return P\n",
    "    else :\n",
    "        return P + P + algorithme_naif(P,k-2)"
   ]
  },
  {
   "cell_type": "code",
   "execution_count": 13,
   "metadata": {
    "collapsed": false
   },
   "outputs": [
   ],
   "source": [
    "def double_aj(P,k):\n",
    "    if k == 0:\n",
    "        return E(0)\n",
    "    elif k == 1:\n",
    "        return P\n",
    "    elif k%2 == 0:\n",
    "        j = k//2\n",
    "        return double_aj(P+P, j)\n",
    "    else:\n",
    "        j = (k-1)//2\n",
    "        return P + double_aj(P+P, j)"
   ]
  },
  {
   "cell_type": "code",
   "execution_count": 14,
   "metadata": {
    "collapsed": false
   },
   "outputs": [
   ],
   "source": [
    "def WNAF_avec_w(P,k,w):\n",
    "    Q = P\n",
    "    L = [E(0)]\n",
    "    a = decomp_base2(k)\n",
    "    m = L[0]\n",
    "\n",
    "    #On a deux cas \"triviaux\" où il est plus simple \n",
    "    #de renvoyer à notre deuxième algorithme :\n",
    "    if len(a)==2 or len(a)==1:\n",
    "        return double_aj(P,k)\n",
    "\n",
    "    #Sinon, on le lance :\n",
    "    #La longueur de a doit etre divisible par w.\n",
    "    else :\n",
    "        b = len(a)%w                #Donc si besoin, on ajoute des 0 1/3\n",
    "        if b!=0:                    # a gauche,ca permet de diviser  2/3\n",
    "            c = 1 + (len(a)-b)/w    # a en fenetre de tailles w.     3/3\n",
    "            a = harmonisation(a, c*w)\n",
    "\n",
    "        #La phase de preparation est terminee. On peut commencer WNAF :\n",
    "        for i in range(2**w):      #On prepare la liste :\n",
    "            L.append(Q)            #L = [E(0), P, 2*P, ..., (-1 + 2**w)*P]\n",
    "            Q = Q + P\n",
    "        for i in range(len(a)//w): #On divise a en sous-parties de taille w\n",
    "            n = m\n",
    "            for j in range(2**w - 1):\n",
    "                m += n       #Le m est inchange si c'est E(0)       1/5\n",
    "                             #(a l'etape 1 de l'algorithme, i=0),   2/5\n",
    "                             #mais sinon, il ne faut pas oublier de 3/5\n",
    "                             #multiplier par 2**w,                  4/5\n",
    "                             #pour bien respecter l'echelle !       5/5\n",
    "\n",
    "            k = extract(i,a,w) #On extrait la 1ère fenetre de taille 1/3\n",
    "            k = int(k,2)       # w du coefficient en base 2, et on   2/3\n",
    "                               # convertit cette fenêtre en base 10. 3/3\n",
    "\n",
    "            k = L[k]     #On prend le point correspondant dans L,   1/5\n",
    "            m += k       # on l'ajoute à notre calcul. Et si ce     2/5\n",
    "                         # n'est pas la derniere étape de la boucle 3/5\n",
    "                         # for, on multipliera par 2^w pour pouvoir 4/5\n",
    "                         # passer à la sous-partie suivante.        5/5\n",
    "        return m"
   ]
  },
  {
   "cell_type": "code",
   "execution_count": 15,
   "metadata": {
    "collapsed": false
   },
   "outputs": [
   ],
   "source": [
    "def WNAF_sans_w(P,k):\n",
    "    Q = P\n",
    "    L = [E(0)]\n",
    "    m = L[0]\n",
    "    a = decomp_base2(k)\n",
    "\n",
    "    #On cherche à diviser a en sous-parties de taille égale.\n",
    "    #Ce qui sera un problème si a est de longueur indivisible.\n",
    "    if is_prime(len(a)) is True :\n",
    "        if len(a)==2 or len(a)==1:\n",
    "            #Ici, autant retourner à un algorithme plus simple, 1/2\n",
    "            #On ne perdra pas en efficacité : 2/2\n",
    "            return double_aj(P,k)\n",
    "\n",
    "        else :\n",
    "            #Mais sinon, on utilise une astuce inspirée de doubler-  1/5\n",
    "            # ajouter. La représentation en base 2 de (k-h)//2       2/5\n",
    "            # sera de longueur non première, donc on pourra lancer   3/5\n",
    "            # l'algorithme sans retomber sur le meme probleme        4/5\n",
    "            # et cela nous ajoute seulement 2 additions.             5/5\n",
    "\n",
    "            h = int(a[-1],2) #h est egal à 0 ou 1. Il est preferable  1/3\n",
    "                             # de le definir ainsi, car cela evite    2/3\n",
    "                             # un if... else qui serait lourd.        3/3\n",
    "            return h*P + WNAF_sans_w(P + P,(k-h)//2)\n",
    "\n",
    "    else :\n",
    "        #On ouvre une fenêtre de taille w. 1/2\n",
    "        #Il faut seulement trouver un w adéquat : 2/2\n",
    "        p1 = factor(len(a))[-1][0]\n",
    "        r1 = factor(len(a))[-1][1]\n",
    "        w = p1^(r1-1)\n",
    "        #Ici, on utilise la factorisation de k en nombres premiers!     1/3\n",
    "        #Notons qu'on aurait pu choisir autre chose pour w, c'est un    2/3\n",
    "        # parti pris dans l'algorithme qui peut tout à fait être changé 3/3\n",
    "\n",
    "        #Et maintenant qu'on a un bon w, il nous reste la derniere 1/3\n",
    "        # partie de l'algorithme, qui est exactement la meme 2/3\n",
    "        # que celle de l'autre algorithme WNAF ! 3/3\n",
    "        for i in range(2**w):\n",
    "            L.append(Q)\n",
    "            Q = Q + P\n",
    "        for i in range(len(a)//w):\n",
    "            n = m\n",
    "            for j in range(2**w - 1):\n",
    "                m += n\n",
    "            k = extract(i,a,w)\n",
    "            k = int(k,2)\n",
    "            k = L[k]\n",
    "            m += k\n",
    "        return m"
   ]
  }
 ],
 "metadata": {
  "kernelspec": {
   "display_name": "SageMath 9.4",
   "language": "sagemath",
   "metadata": {
    "cocalc": {
     "description": "Open-source mathematical software system",
     "priority": 10,
     "url": "https://www.sagemath.org/"
    }
   },
   "name": "sage-9.4",
   "resource_dir": "/ext/jupyter/kernels/sage-9.4"
  },
  "language_info": {
   "codemirror_mode": {
    "name": "ipython",
    "version": 3
   },
   "file_extension": ".py",
   "mimetype": "text/x-python",
   "name": "python",
   "nbconvert_exporter": "python",
   "pygments_lexer": "ipython3",
   "version": "3.9.5"
  }
 },
 "nbformat": 4,
 "nbformat_minor": 4
}